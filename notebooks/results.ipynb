{
 "cells": [
  {
   "cell_type": "markdown",
   "metadata": {},
   "source": [
    "# Results"
   ]
  },
  {
   "cell_type": "code",
   "execution_count": 12,
   "metadata": {},
   "outputs": [],
   "source": [
    "import json\n",
    "import os\n",
    "\n",
    "import numpy as np\n",
    "import pandas as pd\n",
    "import matplotlib.pyplot as plt\n",
    "import seaborn as sns\n",
    "sns.set(style=\"darkgrid\")"
   ]
  },
  {
   "cell_type": "markdown",
   "metadata": {},
   "source": [
    "## 1. Baseline"
   ]
  },
  {
   "cell_type": "markdown",
   "metadata": {},
   "source": [
    "Results of the baseline model:"
   ]
  },
  {
   "cell_type": "code",
   "execution_count": 2,
   "metadata": {},
   "outputs": [
    {
     "name": "stdout",
     "output_type": "stream",
     "text": [
      "accuracy: 0.782\n"
     ]
    },
    {
     "data": {
      "text/html": [
       "<div>\n",
       "<style scoped>\n",
       "    .dataframe tbody tr th:only-of-type {\n",
       "        vertical-align: middle;\n",
       "    }\n",
       "\n",
       "    .dataframe tbody tr th {\n",
       "        vertical-align: top;\n",
       "    }\n",
       "\n",
       "    .dataframe thead th {\n",
       "        text-align: right;\n",
       "    }\n",
       "</style>\n",
       "<table border=\"1\" class=\"dataframe\">\n",
       "  <thead>\n",
       "    <tr style=\"text-align: right;\">\n",
       "      <th></th>\n",
       "      <th>f1</th>\n",
       "      <th>precision</th>\n",
       "      <th>recall</th>\n",
       "    </tr>\n",
       "  </thead>\n",
       "  <tbody>\n",
       "    <tr>\n",
       "      <th>negative</th>\n",
       "      <td>0.776</td>\n",
       "      <td>0.788</td>\n",
       "      <td>0.765</td>\n",
       "    </tr>\n",
       "    <tr>\n",
       "      <th>positive</th>\n",
       "      <td>0.787</td>\n",
       "      <td>0.776</td>\n",
       "      <td>0.799</td>\n",
       "    </tr>\n",
       "    <tr>\n",
       "      <th>average</th>\n",
       "      <td>0.782</td>\n",
       "      <td>0.782</td>\n",
       "      <td>0.782</td>\n",
       "    </tr>\n",
       "  </tbody>\n",
       "</table>\n",
       "</div>"
      ],
      "text/plain": [
       "             f1  precision  recall\n",
       "negative  0.776      0.788   0.765\n",
       "positive  0.787      0.776   0.799\n",
       "average   0.782      0.782   0.782"
      ]
     },
     "execution_count": 2,
     "metadata": {},
     "output_type": "execute_result"
    }
   ],
   "source": [
    "with open('../results/baseline/noseed/results_1.json') as f:\n",
    "    results = json.load(f)\n",
    "df = pd.DataFrame({\n",
    "    'precision': np.round(results['prec'] + [results['avg_prec']], 3),\n",
    "    'recall': np.round(results['rec'] + [results['avg_rec']], 3),\n",
    "    'f1': np.round(results['f1'] + [results['avg_f1']], 3)\n",
    "}, index=(results['labels'] + ['average']))\n",
    "print('accuracy:', np.round(results['acc'], 3))\n",
    "df"
   ]
  },
  {
   "cell_type": "markdown",
   "metadata": {},
   "source": [
    "## 2. Controlling randomness"
   ]
  },
  {
   "cell_type": "code",
   "execution_count": 4,
   "metadata": {},
   "outputs": [
    {
     "data": {
      "text/html": [
       "<div>\n",
       "<style scoped>\n",
       "    .dataframe tbody tr th:only-of-type {\n",
       "        vertical-align: middle;\n",
       "    }\n",
       "\n",
       "    .dataframe tbody tr th {\n",
       "        vertical-align: top;\n",
       "    }\n",
       "\n",
       "    .dataframe thead th {\n",
       "        text-align: right;\n",
       "    }\n",
       "</style>\n",
       "<table border=\"1\" class=\"dataframe\">\n",
       "  <thead>\n",
       "    <tr style=\"text-align: right;\">\n",
       "      <th></th>\n",
       "      <th>min</th>\n",
       "      <th>max</th>\n",
       "      <th>mean</th>\n",
       "      <th>std</th>\n",
       "    </tr>\n",
       "  </thead>\n",
       "  <tbody>\n",
       "    <tr>\n",
       "      <th>no seed</th>\n",
       "      <td>0.767</td>\n",
       "      <td>0.783</td>\n",
       "      <td>0.777</td>\n",
       "      <td>0.006</td>\n",
       "    </tr>\n",
       "    <tr>\n",
       "      <th>seed</th>\n",
       "      <td>0.776</td>\n",
       "      <td>0.799</td>\n",
       "      <td>0.789</td>\n",
       "      <td>0.007</td>\n",
       "    </tr>\n",
       "  </tbody>\n",
       "</table>\n",
       "</div>"
      ],
      "text/plain": [
       "           min    max   mean    std\n",
       "no seed  0.767  0.783  0.777  0.006\n",
       "seed     0.776  0.799  0.789  0.007"
      ]
     },
     "execution_count": 4,
     "metadata": {},
     "output_type": "execute_result"
    }
   ],
   "source": [
    "acc = []\n",
    "for path in os.listdir('../results/baseline/noseed'):\n",
    "    with open(os.path.join('../results/baseline/noseed', path)) as f:\n",
    "        results = json.load(f)\n",
    "        acc.append(results['acc'])\n",
    "\n",
    "seed_acc = []\n",
    "for path in os.listdir('../results/baseline/seed'):\n",
    "    with open(os.path.join('../results/baseline/seed', path)) as f:\n",
    "        results = json.load(f)\n",
    "        seed_acc.append(results['acc'])\n",
    "\n",
    "df = pd.DataFrame({\n",
    "    'min': np.round([np.amin(acc), np.amin(seed_acc)], 3),\n",
    "    'max': np.round([np.amax(acc), np.amax(seed_acc)], 3),\n",
    "    'mean': np.round([np.mean(acc), np.mean(seed_acc)], 3),\n",
    "    'std': np.round([np.std(acc), np.std(seed_acc)], 3)\n",
    "}, columns=['min', 'max', 'mean', 'std'], index=['no seed', 'seed'])\n",
    "df.to_latex('../report/baseline.tex')\n",
    "\n",
    "df"
   ]
  },
  {
   "cell_type": "markdown",
   "metadata": {},
   "source": [
    "## 3. Sensitivity Analisys"
   ]
  },
  {
   "cell_type": "markdown",
   "metadata": {},
   "source": [
    "### 3.1 Window sizes"
   ]
  },
  {
   "cell_type": "code",
   "execution_count": 5,
   "metadata": {},
   "outputs": [
    {
     "data": {
      "text/html": [
       "<div>\n",
       "<style scoped>\n",
       "    .dataframe tbody tr th:only-of-type {\n",
       "        vertical-align: middle;\n",
       "    }\n",
       "\n",
       "    .dataframe tbody tr th {\n",
       "        vertical-align: top;\n",
       "    }\n",
       "\n",
       "    .dataframe thead th {\n",
       "        text-align: right;\n",
       "    }\n",
       "</style>\n",
       "<table border=\"1\" class=\"dataframe\">\n",
       "  <thead>\n",
       "    <tr style=\"text-align: right;\">\n",
       "      <th></th>\n",
       "      <th>accuracy</th>\n",
       "    </tr>\n",
       "  </thead>\n",
       "  <tbody>\n",
       "    <tr>\n",
       "      <th>1</th>\n",
       "      <td>0.787879</td>\n",
       "    </tr>\n",
       "    <tr>\n",
       "      <th>1-3-5-7</th>\n",
       "      <td>0.792727</td>\n",
       "    </tr>\n",
       "    <tr>\n",
       "      <th>14-15-16</th>\n",
       "      <td>0.753939</td>\n",
       "    </tr>\n",
       "    <tr>\n",
       "      <th>2-3-4</th>\n",
       "      <td>0.786667</td>\n",
       "    </tr>\n",
       "    <tr>\n",
       "      <th>2-3-4-5</th>\n",
       "      <td>0.773333</td>\n",
       "    </tr>\n",
       "    <tr>\n",
       "      <th>3</th>\n",
       "      <td>0.796364</td>\n",
       "    </tr>\n",
       "    <tr>\n",
       "      <th>3-4-5</th>\n",
       "      <td>0.790303</td>\n",
       "    </tr>\n",
       "    <tr>\n",
       "      <th>4-5-6</th>\n",
       "      <td>0.780606</td>\n",
       "    </tr>\n",
       "    <tr>\n",
       "      <th>5</th>\n",
       "      <td>0.773333</td>\n",
       "    </tr>\n",
       "    <tr>\n",
       "      <th>6-7-8-9</th>\n",
       "      <td>0.761212</td>\n",
       "    </tr>\n",
       "    <tr>\n",
       "      <th>7-8-9</th>\n",
       "      <td>0.761212</td>\n",
       "    </tr>\n",
       "  </tbody>\n",
       "</table>\n",
       "</div>"
      ],
      "text/plain": [
       "          accuracy\n",
       "1         0.787879\n",
       "1-3-5-7   0.792727\n",
       "14-15-16  0.753939\n",
       "2-3-4     0.786667\n",
       "2-3-4-5   0.773333\n",
       "3         0.796364\n",
       "3-4-5     0.790303\n",
       "4-5-6     0.780606\n",
       "5         0.773333\n",
       "6-7-8-9   0.761212\n",
       "7-8-9     0.761212"
      ]
     },
     "execution_count": 5,
     "metadata": {},
     "output_type": "execute_result"
    }
   ],
   "source": [
    "accs = []\n",
    "names = []\n",
    "for path in sorted(os.listdir('../results/baseline/windows'), key=lambda x: os.path.splitext(x)[0]):\n",
    "    with open(os.path.join('../results/baseline/windows', path)) as f:\n",
    "        results = json.load(f)\n",
    "        accs.append(results['acc'])\n",
    "        names.append(os.path.splitext(path)[0])\n",
    "df = pd.DataFrame({'accuracy': accs}, index=names)\n",
    "df.to_latex('../report/windows.tex')\n",
    "df"
   ]
  },
  {
   "cell_type": "markdown",
   "metadata": {},
   "source": [
    "### 3.2 Filters"
   ]
  },
  {
   "cell_type": "code",
   "execution_count": 6,
   "metadata": {},
   "outputs": [
    {
     "data": {
      "text/html": [
       "<div>\n",
       "<style scoped>\n",
       "    .dataframe tbody tr th:only-of-type {\n",
       "        vertical-align: middle;\n",
       "    }\n",
       "\n",
       "    .dataframe tbody tr th {\n",
       "        vertical-align: top;\n",
       "    }\n",
       "\n",
       "    .dataframe thead th {\n",
       "        text-align: right;\n",
       "    }\n",
       "</style>\n",
       "<table border=\"1\" class=\"dataframe\">\n",
       "  <thead>\n",
       "    <tr style=\"text-align: right;\">\n",
       "      <th></th>\n",
       "      <th>filter_size</th>\n",
       "      <th>accuracy</th>\n",
       "    </tr>\n",
       "  </thead>\n",
       "  <tbody>\n",
       "    <tr>\n",
       "      <th>0</th>\n",
       "      <td>50</td>\n",
       "      <td>0.772121</td>\n",
       "    </tr>\n",
       "    <tr>\n",
       "      <th>1</th>\n",
       "      <td>100</td>\n",
       "      <td>0.786667</td>\n",
       "    </tr>\n",
       "    <tr>\n",
       "      <th>2</th>\n",
       "      <td>200</td>\n",
       "      <td>0.791515</td>\n",
       "    </tr>\n",
       "    <tr>\n",
       "      <th>3</th>\n",
       "      <td>300</td>\n",
       "      <td>0.790303</td>\n",
       "    </tr>\n",
       "    <tr>\n",
       "      <th>4</th>\n",
       "      <td>500</td>\n",
       "      <td>0.772121</td>\n",
       "    </tr>\n",
       "    <tr>\n",
       "      <th>5</th>\n",
       "      <td>1000</td>\n",
       "      <td>0.785455</td>\n",
       "    </tr>\n",
       "  </tbody>\n",
       "</table>\n",
       "</div>"
      ],
      "text/plain": [
       "  filter_size  accuracy\n",
       "0          50  0.772121\n",
       "1         100  0.786667\n",
       "2         200  0.791515\n",
       "3         300  0.790303\n",
       "4         500  0.772121\n",
       "5        1000  0.785455"
      ]
     },
     "execution_count": 6,
     "metadata": {},
     "output_type": "execute_result"
    },
    {
     "data": {
      "image/png": "[encoded data removed]",
      "text/plain": [
       "<Figure size 360x360 with 1 Axes>"
      ]
     },
     "metadata": {
      "needs_background": "light"
     },
     "output_type": "display_data"
    }
   ],
   "source": [
    "accs = []\n",
    "names = []\n",
    "for path in sorted(os.listdir('../results/baseline/filters'), key=lambda x: int(os.path.splitext(x)[0])):\n",
    "    with open(os.path.join('../results/baseline/filters', path)) as f:\n",
    "        results = json.load(f)\n",
    "        accs.append(results['acc'])\n",
    "        names.append(os.path.splitext(path)[0])\n",
    "\n",
    "df = pd.DataFrame({'accuracy': accs, 'filter_size': names}, columns=['filter_size', 'accuracy'])\n",
    "df.to_latex('../report/filters.tex')\n",
    "sns.relplot(x='filter_size', y='accuracy', data=df)\n",
    "df"
   ]
  },
  {
   "cell_type": "markdown",
   "metadata": {},
   "source": [
    "### 3.3 POS-tagged"
   ]
  },
  {
   "cell_type": "code",
   "execution_count": 7,
   "metadata": {},
   "outputs": [
    {
     "name": "stdout",
     "output_type": "stream",
     "text": [
      "accuracy: 0.676\n"
     ]
    },
    {
     "data": {
      "text/html": [
       "<div>\n",
       "<style scoped>\n",
       "    .dataframe tbody tr th:only-of-type {\n",
       "        vertical-align: middle;\n",
       "    }\n",
       "\n",
       "    .dataframe tbody tr th {\n",
       "        vertical-align: top;\n",
       "    }\n",
       "\n",
       "    .dataframe thead th {\n",
       "        text-align: right;\n",
       "    }\n",
       "</style>\n",
       "<table border=\"1\" class=\"dataframe\">\n",
       "  <thead>\n",
       "    <tr style=\"text-align: right;\">\n",
       "      <th></th>\n",
       "      <th>f1</th>\n",
       "      <th>precision</th>\n",
       "      <th>recall</th>\n",
       "    </tr>\n",
       "  </thead>\n",
       "  <tbody>\n",
       "    <tr>\n",
       "      <th>negative</th>\n",
       "      <td>0.691</td>\n",
       "      <td>0.655</td>\n",
       "      <td>0.730</td>\n",
       "    </tr>\n",
       "    <tr>\n",
       "      <th>positive</th>\n",
       "      <td>0.661</td>\n",
       "      <td>0.703</td>\n",
       "      <td>0.624</td>\n",
       "    </tr>\n",
       "    <tr>\n",
       "      <th>average</th>\n",
       "      <td>0.676</td>\n",
       "      <td>0.679</td>\n",
       "      <td>0.677</td>\n",
       "    </tr>\n",
       "  </tbody>\n",
       "</table>\n",
       "</div>"
      ],
      "text/plain": [
       "             f1  precision  recall\n",
       "negative  0.691      0.655   0.730\n",
       "positive  0.661      0.703   0.624\n",
       "average   0.676      0.679   0.677"
      ]
     },
     "execution_count": 7,
     "metadata": {},
     "output_type": "execute_result"
    }
   ],
   "source": [
    "with open('../results/baseline/pos/1.zip.json') as f:\n",
    "    results = json.load(f)\n",
    "df = pd.DataFrame({\n",
    "    'precision': np.round(results['prec'] + [results['avg_prec']], 3),\n",
    "    'recall': np.round(results['rec'] + [results['avg_rec']], 3),\n",
    "    'f1': np.round(results['f1'] + [results['avg_f1']], 3)\n",
    "}, index=(results['labels'] + ['average']))\n",
    "print('accuracy:', np.round(results['acc'], 3))\n",
    "df.to_latex('../report/pos_tagged.tex')\n",
    "df"
   ]
  },
  {
   "cell_type": "code",
   "execution_count": 15,
   "metadata": {},
   "outputs": [
    {
     "data": {
      "text/html": [
       "<div>\n",
       "<style scoped>\n",
       "    .dataframe tbody tr th:only-of-type {\n",
       "        vertical-align: middle;\n",
       "    }\n",
       "\n",
       "    .dataframe tbody tr th {\n",
       "        vertical-align: top;\n",
       "    }\n",
       "\n",
       "    .dataframe thead th {\n",
       "        text-align: right;\n",
       "    }\n",
       "</style>\n",
       "<table border=\"1\" class=\"dataframe\">\n",
       "  <thead>\n",
       "    <tr style=\"text-align: right;\">\n",
       "      <th></th>\n",
       "      <th>raw</th>\n",
       "      <th>lemmatized</th>\n",
       "    </tr>\n",
       "  </thead>\n",
       "  <tbody>\n",
       "    <tr>\n",
       "      <th>wiki+Gigaword (w2v)</th>\n",
       "      <td>0.655</td>\n",
       "      <td>0.661</td>\n",
       "    </tr>\n",
       "    <tr>\n",
       "      <th>wiki+Gigaword (glove)</th>\n",
       "      <td>0.753</td>\n",
       "      <td>0.765</td>\n",
       "    </tr>\n",
       "  </tbody>\n",
       "</table>\n",
       "</div>"
      ],
      "text/plain": [
       "                         raw  lemmatized\n",
       "wiki+Gigaword (w2v)    0.655       0.661\n",
       "wiki+Gigaword (glove)  0.753       0.765"
      ]
     },
     "execution_count": 15,
     "metadata": {},
     "output_type": "execute_result"
    }
   ],
   "source": [
    "raw = []\n",
    "lemmatized = []\n",
    "\n",
    "with open('../results/baseline/embedding/18.zip.json') as f:\n",
    "        results = json.load(f)\n",
    "        raw.append(results['acc'])\n",
    "        \n",
    "with open('../results/baseline/embedding/20.zip.json') as f:\n",
    "        results = json.load(f)\n",
    "        raw.append(results['acc'])\n",
    "\n",
    "with open('../results/baseline/pos/17.zip.json') as f:\n",
    "        results = json.load(f)\n",
    "        lemmatized.append(results['acc'])\n",
    "\n",
    "with open('../results/baseline/pos/19.zip.json') as f:\n",
    "        results = json.load(f)\n",
    "        lemmatized.append(results['acc'])\n",
    "\n",
    "df = pd.DataFrame({\n",
    "    'raw': np.round(raw, 3),\n",
    "    'lemmatized': np.round(lemmatized, 3)\n",
    "}, columns=['raw', 'lemmatized'], index=['wiki+Gigaword (w2v)', 'wiki+Gigaword (glove)'])\n",
    "df.to_latex('../report/lemmatized.tex')\n",
    "df"
   ]
  },
  {
   "cell_type": "markdown",
   "metadata": {},
   "source": [
    "### 3.1 Activation Function"
   ]
  },
  {
   "cell_type": "code",
   "execution_count": 14,
   "metadata": {},
   "outputs": [
    {
     "data": {
      "text/html": [
       "<div>\n",
       "<style scoped>\n",
       "    .dataframe tbody tr th:only-of-type {\n",
       "        vertical-align: middle;\n",
       "    }\n",
       "\n",
       "    .dataframe tbody tr th {\n",
       "        vertical-align: top;\n",
       "    }\n",
       "\n",
       "    .dataframe thead th {\n",
       "        text-align: right;\n",
       "    }\n",
       "</style>\n",
       "<table border=\"1\" class=\"dataframe\">\n",
       "  <thead>\n",
       "    <tr style=\"text-align: right;\">\n",
       "      <th></th>\n",
       "      <th>accuracy</th>\n",
       "    </tr>\n",
       "  </thead>\n",
       "  <tbody>\n",
       "    <tr>\n",
       "      <th>tanh</th>\n",
       "      <td>0.768485</td>\n",
       "    </tr>\n",
       "    <tr>\n",
       "      <th>sigmoid</th>\n",
       "      <td>0.665455</td>\n",
       "    </tr>\n",
       "    <tr>\n",
       "      <th>elu</th>\n",
       "      <td>0.780606</td>\n",
       "    </tr>\n",
       "    <tr>\n",
       "      <th>relu</th>\n",
       "      <td>0.793939</td>\n",
       "    </tr>\n",
       "    <tr>\n",
       "      <th>leakyrelu</th>\n",
       "      <td>0.789091</td>\n",
       "    </tr>\n",
       "  </tbody>\n",
       "</table>\n",
       "</div>"
      ],
      "text/plain": [
       "           accuracy\n",
       "tanh       0.768485\n",
       "sigmoid    0.665455\n",
       "elu        0.780606\n",
       "relu       0.793939\n",
       "leakyrelu  0.789091"
      ]
     },
     "execution_count": 14,
     "metadata": {},
     "output_type": "execute_result"
    }
   ],
   "source": [
    "accs = []\n",
    "names = []\n",
    "for path in os.listdir('../results/baseline/activation'):\n",
    "    with open(os.path.join('../results/baseline/activation', path)) as f:\n",
    "        results = json.load(f)\n",
    "        accs.append(results['acc'])\n",
    "        names.append(os.path.splitext(path)[0])\n",
    "\n",
    "df = pd.DataFrame({'accuracy': accs}, index=names)\n",
    "df"
   ]
  },
  {
   "cell_type": "markdown",
   "metadata": {},
   "source": [
    "## 4. Influence of word embeddings"
   ]
  },
  {
   "cell_type": "markdown",
   "metadata": {},
   "source": [
    "### 4.1 Word Embeddings"
   ]
  },
  {
   "cell_type": "code",
   "execution_count": 8,
   "metadata": {},
   "outputs": [
    {
     "data": {
      "text/html": [
       "<div>\n",
       "<style scoped>\n",
       "    .dataframe tbody tr th:only-of-type {\n",
       "        vertical-align: middle;\n",
       "    }\n",
       "\n",
       "    .dataframe tbody tr th {\n",
       "        vertical-align: top;\n",
       "    }\n",
       "\n",
       "    .dataframe thead th {\n",
       "        text-align: right;\n",
       "    }\n",
       "</style>\n",
       "<table border=\"1\" class=\"dataframe\">\n",
       "  <thead>\n",
       "    <tr style=\"text-align: right;\">\n",
       "      <th></th>\n",
       "      <th>static</th>\n",
       "      <th>non-static</th>\n",
       "      <th>multichannel</th>\n",
       "    </tr>\n",
       "  </thead>\n",
       "  <tbody>\n",
       "    <tr>\n",
       "      <th>wiki+Gigaword (w2v)</th>\n",
       "      <td>0.655</td>\n",
       "      <td>0.659</td>\n",
       "      <td>0.704</td>\n",
       "    </tr>\n",
       "    <tr>\n",
       "      <th>wiki+Gigaword (glove)</th>\n",
       "      <td>0.753</td>\n",
       "      <td>0.764</td>\n",
       "      <td>0.759</td>\n",
       "    </tr>\n",
       "    <tr>\n",
       "      <th>GoogleNews (w2v)</th>\n",
       "      <td>0.790</td>\n",
       "      <td>0.795</td>\n",
       "      <td>0.790</td>\n",
       "    </tr>\n",
       "    <tr>\n",
       "      <th>CommonCrawl 840B (glove)</th>\n",
       "      <td>0.790</td>\n",
       "      <td>0.794</td>\n",
       "      <td>0.804</td>\n",
       "    </tr>\n",
       "    <tr>\n",
       "      <th>wiki-news (fasttext)</th>\n",
       "      <td>0.796</td>\n",
       "      <td>0.801</td>\n",
       "      <td>0.818</td>\n",
       "    </tr>\n",
       "  </tbody>\n",
       "</table>\n",
       "</div>"
      ],
      "text/plain": [
       "                          static  non-static  multichannel\n",
       "wiki+Gigaword (w2v)        0.655       0.659         0.704\n",
       "wiki+Gigaword (glove)      0.753       0.764         0.759\n",
       "GoogleNews (w2v)           0.790       0.795         0.790\n",
       "CommonCrawl 840B (glove)   0.790       0.794         0.804\n",
       "wiki-news (fasttext)       0.796       0.801         0.818"
      ]
     },
     "execution_count": 8,
     "metadata": {},
     "output_type": "execute_result"
    }
   ],
   "source": [
    "static = []\n",
    "for path in sorted(os.listdir('../results/baseline/embedding')):\n",
    "    with open(os.path.join('../results/baseline/embedding', path)) as f:\n",
    "        results = json.load(f)\n",
    "        static.append(results['acc'])\n",
    "\n",
    "non_static = []\n",
    "for path in sorted(os.listdir('../results/baseline/fine_tuning')):\n",
    "    with open(os.path.join('../results/baseline/fine_tuning', path)) as f:\n",
    "        results = json.load(f)\n",
    "        non_static.append(results['acc'])\n",
    "\n",
    "multichannel = []\n",
    "for path in sorted(os.listdir('../results/baseline/multichannel')):\n",
    "    with open(os.path.join('../results/baseline/multichannel', path)) as f:\n",
    "        results = json.load(f)\n",
    "        multichannel.append(results['acc'])\n",
    "\n",
    "pd.DataFrame({\n",
    "    'static': np.round(static,3),\n",
    "    'non-static': np.round(non_static,3),\n",
    "    'multichannel': np.round(multichannel,3)\n",
    "}, columns=['static', 'non-static', 'multichannel'], index=[\n",
    "    'wiki+Gigaword (w2v)',\n",
    "    'wiki+Gigaword (glove)',\n",
    "    'GoogleNews (w2v)',\n",
    "    'CommonCrawl 840B (glove)',\n",
    "    'wiki-news (fasttext)'\n",
    "])"
   ]
  },
  {
   "cell_type": "markdown",
   "metadata": {},
   "source": [
    "### 4.2 Infering OOVs"
   ]
  },
  {
   "cell_type": "code",
   "execution_count": 9,
   "metadata": {},
   "outputs": [
    {
     "name": "stdout",
     "output_type": "stream",
     "text": [
      "accuracy: 0.818\n"
     ]
    },
    {
     "data": {
      "text/html": [
       "<div>\n",
       "<style scoped>\n",
       "    .dataframe tbody tr th:only-of-type {\n",
       "        vertical-align: middle;\n",
       "    }\n",
       "\n",
       "    .dataframe tbody tr th {\n",
       "        vertical-align: top;\n",
       "    }\n",
       "\n",
       "    .dataframe thead th {\n",
       "        text-align: right;\n",
       "    }\n",
       "</style>\n",
       "<table border=\"1\" class=\"dataframe\">\n",
       "  <thead>\n",
       "    <tr style=\"text-align: right;\">\n",
       "      <th></th>\n",
       "      <th>f1</th>\n",
       "      <th>precision</th>\n",
       "      <th>recall</th>\n",
       "    </tr>\n",
       "  </thead>\n",
       "  <tbody>\n",
       "    <tr>\n",
       "      <th>negative</th>\n",
       "      <td>0.812</td>\n",
       "      <td>0.831</td>\n",
       "      <td>0.794</td>\n",
       "    </tr>\n",
       "    <tr>\n",
       "      <th>positive</th>\n",
       "      <td>0.824</td>\n",
       "      <td>0.807</td>\n",
       "      <td>0.842</td>\n",
       "    </tr>\n",
       "    <tr>\n",
       "      <th>average</th>\n",
       "      <td>0.818</td>\n",
       "      <td>0.819</td>\n",
       "      <td>0.818</td>\n",
       "    </tr>\n",
       "  </tbody>\n",
       "</table>\n",
       "</div>"
      ],
      "text/plain": [
       "             f1  precision  recall\n",
       "negative  0.812      0.831   0.794\n",
       "positive  0.824      0.807   0.842\n",
       "average   0.818      0.819   0.818"
      ]
     },
     "execution_count": 9,
     "metadata": {},
     "output_type": "execute_result"
    }
   ],
   "source": [
    "with open('../results/baseline/infer-oov/fasttext-infer-oov.json') as f:\n",
    "    results = json.load(f)\n",
    "df = pd.DataFrame({\n",
    "    'precision': np.round(results['prec'] + [results['avg_prec']], 3),\n",
    "    'recall': np.round(results['rec'] + [results['avg_rec']], 3),\n",
    "    'f1': np.round(results['f1'] + [results['avg_f1']], 3)\n",
    "}, index=(results['labels'] + ['average']))\n",
    "print('accuracy:', np.round(results['acc'], 3))\n",
    "df"
   ]
  },
  {
   "cell_type": "code",
   "execution_count": null,
   "metadata": {},
   "outputs": [],
   "source": []
  }
 ],
 "metadata": {
  "kernelspec": {
   "display_name": "Python [conda env:inf5820]",
   "language": "python",
   "name": "conda-env-inf5820-py"
  },
  "language_info": {
   "codemirror_mode": {
    "name": "ipython",
    "version": 3
   },
   "file_extension": ".py",
   "mimetype": "text/x-python",
   "name": "python",
   "nbconvert_exporter": "python",
   "pygments_lexer": "ipython3",
   "version": "3.5.0"
  }
 },
 "nbformat": 4,
 "nbformat_minor": 2
}
