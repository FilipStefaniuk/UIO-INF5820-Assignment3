{
 "cells": [
  {
   "cell_type": "markdown",
   "metadata": {},
   "source": [
    "# Results"
   ]
  },
  {
   "cell_type": "code",
   "execution_count": 14,
   "metadata": {},
   "outputs": [],
   "source": [
    "import json\n",
    "import os\n",
    "\n",
    "import numpy as np\n",
    "import pandas as pd\n",
    "import matplotlib.pyplot as plt\n",
    "import seaborn as sns\n",
    "sns.set(style=\"darkgrid\")"
   ]
  },
  {
   "cell_type": "markdown",
   "metadata": {},
   "source": [
    "## 1. Baseline"
   ]
  },
  {
   "cell_type": "markdown",
   "metadata": {},
   "source": [
    "Results of the baseline model:"
   ]
  },
  {
   "cell_type": "code",
   "execution_count": 87,
   "metadata": {},
   "outputs": [
    {
     "name": "stdout",
     "output_type": "stream",
     "text": [
      "accuracy: 0.776\n"
     ]
    },
    {
     "data": {
      "text/html": [
       "<div>\n",
       "<style scoped>\n",
       "    .dataframe tbody tr th:only-of-type {\n",
       "        vertical-align: middle;\n",
       "    }\n",
       "\n",
       "    .dataframe tbody tr th {\n",
       "        vertical-align: top;\n",
       "    }\n",
       "\n",
       "    .dataframe thead th {\n",
       "        text-align: right;\n",
       "    }\n",
       "</style>\n",
       "<table border=\"1\" class=\"dataframe\">\n",
       "  <thead>\n",
       "    <tr style=\"text-align: right;\">\n",
       "      <th></th>\n",
       "      <th>f1</th>\n",
       "      <th>precision</th>\n",
       "      <th>recall</th>\n",
       "    </tr>\n",
       "  </thead>\n",
       "  <tbody>\n",
       "    <tr>\n",
       "      <th>negative</th>\n",
       "      <td>0.769</td>\n",
       "      <td>0.784</td>\n",
       "      <td>0.755</td>\n",
       "    </tr>\n",
       "    <tr>\n",
       "      <th>positive</th>\n",
       "      <td>0.782</td>\n",
       "      <td>0.769</td>\n",
       "      <td>0.796</td>\n",
       "    </tr>\n",
       "    <tr>\n",
       "      <th>average</th>\n",
       "      <td>0.776</td>\n",
       "      <td>0.776</td>\n",
       "      <td>0.776</td>\n",
       "    </tr>\n",
       "  </tbody>\n",
       "</table>\n",
       "</div>"
      ],
      "text/plain": [
       "             f1  precision  recall\n",
       "negative  0.769      0.784   0.755\n",
       "positive  0.782      0.769   0.796\n",
       "average   0.776      0.776   0.776"
      ]
     },
     "execution_count": 87,
     "metadata": {},
     "output_type": "execute_result"
    }
   ],
   "source": [
    "with open('../results/baseline/noseed/results_1.json') as f:\n",
    "    results = json.load(f)\n",
    "df = pd.DataFrame({\n",
    "    'precision': np.round(results['prec'] + [results['avg_prec']], 3),\n",
    "    'recall': np.round(results['rec'] + [results['avg_rec']], 3),\n",
    "    'f1': np.round(results['f1'] + [results['avg_f1']], 3)\n",
    "}, index=(results['labels'] + ['average']))\n",
    "print('accuracy:', np.round(results['acc'], 3))\n",
    "df"
   ]
  },
  {
   "cell_type": "markdown",
   "metadata": {},
   "source": [
    "## 2. Controlling randomness"
   ]
  },
  {
   "cell_type": "code",
   "execution_count": 42,
   "metadata": {},
   "outputs": [
    {
     "data": {
      "text/html": [
       "<div>\n",
       "<style scoped>\n",
       "    .dataframe tbody tr th:only-of-type {\n",
       "        vertical-align: middle;\n",
       "    }\n",
       "\n",
       "    .dataframe tbody tr th {\n",
       "        vertical-align: top;\n",
       "    }\n",
       "\n",
       "    .dataframe thead th {\n",
       "        text-align: right;\n",
       "    }\n",
       "</style>\n",
       "<table border=\"1\" class=\"dataframe\">\n",
       "  <thead>\n",
       "    <tr style=\"text-align: right;\">\n",
       "      <th></th>\n",
       "      <th>min</th>\n",
       "      <th>max</th>\n",
       "      <th>mean</th>\n",
       "      <th>std</th>\n",
       "    </tr>\n",
       "  </thead>\n",
       "  <tbody>\n",
       "    <tr>\n",
       "      <th>no seed</th>\n",
       "      <td>0.776</td>\n",
       "      <td>0.804</td>\n",
       "      <td>0.790</td>\n",
       "      <td>0.009</td>\n",
       "    </tr>\n",
       "    <tr>\n",
       "      <th>seed (123)</th>\n",
       "      <td>0.792</td>\n",
       "      <td>0.798</td>\n",
       "      <td>0.795</td>\n",
       "      <td>0.002</td>\n",
       "    </tr>\n",
       "  </tbody>\n",
       "</table>\n",
       "</div>"
      ],
      "text/plain": [
       "              min    max   mean    std\n",
       "no seed     0.776  0.804  0.790  0.009\n",
       "seed (123)  0.792  0.798  0.795  0.002"
      ]
     },
     "execution_count": 42,
     "metadata": {},
     "output_type": "execute_result"
    }
   ],
   "source": [
    "acc = []\n",
    "for path in os.listdir('../results/baseline/noseed'):\n",
    "    with open(os.path.join('../results/baseline/noseed', path)) as f:\n",
    "        results = json.load(f)\n",
    "        acc.append(results['acc'])\n",
    "\n",
    "seed_acc = []\n",
    "for path in os.listdir('../results/baseline/seed'):\n",
    "    with open(os.path.join('../results/baseline/seed', path)) as f:\n",
    "        results = json.load(f)\n",
    "        seed_acc.append(results['acc'])\n",
    "\n",
    "df = pd.DataFrame({\n",
    "    'min': np.round([np.amin(acc), np.amin(seed_acc)], 3),\n",
    "    'max': np.round([np.amax(acc), np.amax(seed_acc)], 3),\n",
    "    'mean': np.round([np.mean(acc), np.mean(seed_acc)], 3),\n",
    "    'std': np.round([np.std(acc), np.std(seed_acc)], 3)\n",
    "}, columns=['min', 'max', 'mean', 'std'], index=['no seed', 'seed (123)'])\n",
    "\n",
    "df"
   ]
  },
  {
   "cell_type": "markdown",
   "metadata": {},
   "source": [
    "## 3. Sensitivity Analisys"
   ]
  },
  {
   "cell_type": "markdown",
   "metadata": {},
   "source": [
    "### 3.1 Window sizes"
   ]
  },
  {
   "cell_type": "code",
   "execution_count": 49,
   "metadata": {},
   "outputs": [
    {
     "data": {
      "text/html": [
       "<div>\n",
       "<style scoped>\n",
       "    .dataframe tbody tr th:only-of-type {\n",
       "        vertical-align: middle;\n",
       "    }\n",
       "\n",
       "    .dataframe tbody tr th {\n",
       "        vertical-align: top;\n",
       "    }\n",
       "\n",
       "    .dataframe thead th {\n",
       "        text-align: right;\n",
       "    }\n",
       "</style>\n",
       "<table border=\"1\" class=\"dataframe\">\n",
       "  <thead>\n",
       "    <tr style=\"text-align: right;\">\n",
       "      <th></th>\n",
       "      <th>accuracy</th>\n",
       "    </tr>\n",
       "  </thead>\n",
       "  <tbody>\n",
       "    <tr>\n",
       "      <th>1</th>\n",
       "      <td>0.778182</td>\n",
       "    </tr>\n",
       "    <tr>\n",
       "      <th>1-3-5-7</th>\n",
       "      <td>0.730909</td>\n",
       "    </tr>\n",
       "    <tr>\n",
       "      <th>14-15-16</th>\n",
       "      <td>0.670303</td>\n",
       "    </tr>\n",
       "    <tr>\n",
       "      <th>2-3-4</th>\n",
       "      <td>0.743030</td>\n",
       "    </tr>\n",
       "    <tr>\n",
       "      <th>2-3-4-5</th>\n",
       "      <td>0.727273</td>\n",
       "    </tr>\n",
       "    <tr>\n",
       "      <th>3</th>\n",
       "      <td>0.739394</td>\n",
       "    </tr>\n",
       "    <tr>\n",
       "      <th>3-4-5</th>\n",
       "      <td>0.722424</td>\n",
       "    </tr>\n",
       "    <tr>\n",
       "      <th>4-5-6</th>\n",
       "      <td>0.710303</td>\n",
       "    </tr>\n",
       "    <tr>\n",
       "      <th>5</th>\n",
       "      <td>0.718788</td>\n",
       "    </tr>\n",
       "    <tr>\n",
       "      <th>6-7-8-9</th>\n",
       "      <td>0.692121</td>\n",
       "    </tr>\n",
       "    <tr>\n",
       "      <th>7-8-9</th>\n",
       "      <td>0.689697</td>\n",
       "    </tr>\n",
       "  </tbody>\n",
       "</table>\n",
       "</div>"
      ],
      "text/plain": [
       "          accuracy\n",
       "1         0.778182\n",
       "1-3-5-7   0.730909\n",
       "14-15-16  0.670303\n",
       "2-3-4     0.743030\n",
       "2-3-4-5   0.727273\n",
       "3         0.739394\n",
       "3-4-5     0.722424\n",
       "4-5-6     0.710303\n",
       "5         0.718788\n",
       "6-7-8-9   0.692121\n",
       "7-8-9     0.689697"
      ]
     },
     "execution_count": 49,
     "metadata": {},
     "output_type": "execute_result"
    }
   ],
   "source": [
    "accs = []\n",
    "names = []\n",
    "for path in sorted(os.listdir('../results/baseline/windows'), key=lambda x: os.path.splitext(x)[0]):\n",
    "    with open(os.path.join('../results/baseline/windows', path)) as f:\n",
    "        results = json.load(f)\n",
    "        accs.append(results['acc'])\n",
    "        names.append(os.path.splitext(path)[0])\n",
    "pd.DataFrame({'accuracy': accs}, index=names)"
   ]
  },
  {
   "cell_type": "markdown",
   "metadata": {},
   "source": [
    "### 3.2 Filters"
   ]
  },
  {
   "cell_type": "code",
   "execution_count": 64,
   "metadata": {},
   "outputs": [
    {
     "data": {
      "text/html": [
       "<div>\n",
       "<style scoped>\n",
       "    .dataframe tbody tr th:only-of-type {\n",
       "        vertical-align: middle;\n",
       "    }\n",
       "\n",
       "    .dataframe tbody tr th {\n",
       "        vertical-align: top;\n",
       "    }\n",
       "\n",
       "    .dataframe thead th {\n",
       "        text-align: right;\n",
       "    }\n",
       "</style>\n",
       "<table border=\"1\" class=\"dataframe\">\n",
       "  <thead>\n",
       "    <tr style=\"text-align: right;\">\n",
       "      <th></th>\n",
       "      <th>filter_size</th>\n",
       "      <th>accuracy</th>\n",
       "    </tr>\n",
       "  </thead>\n",
       "  <tbody>\n",
       "    <tr>\n",
       "      <th>0</th>\n",
       "      <td>50</td>\n",
       "      <td>0.781818</td>\n",
       "    </tr>\n",
       "    <tr>\n",
       "      <th>1</th>\n",
       "      <td>100</td>\n",
       "      <td>0.795152</td>\n",
       "    </tr>\n",
       "    <tr>\n",
       "      <th>2</th>\n",
       "      <td>200</td>\n",
       "      <td>0.789091</td>\n",
       "    </tr>\n",
       "    <tr>\n",
       "      <th>3</th>\n",
       "      <td>300</td>\n",
       "      <td>0.797576</td>\n",
       "    </tr>\n",
       "    <tr>\n",
       "      <th>4</th>\n",
       "      <td>500</td>\n",
       "      <td>0.792727</td>\n",
       "    </tr>\n",
       "    <tr>\n",
       "      <th>5</th>\n",
       "      <td>1000</td>\n",
       "      <td>0.787879</td>\n",
       "    </tr>\n",
       "  </tbody>\n",
       "</table>\n",
       "</div>"
      ],
      "text/plain": [
       "  filter_size  accuracy\n",
       "0          50  0.781818\n",
       "1         100  0.795152\n",
       "2         200  0.789091\n",
       "3         300  0.797576\n",
       "4         500  0.792727\n",
       "5        1000  0.787879"
      ]
     },
     "execution_count": 64,
     "metadata": {},
     "output_type": "execute_result"
    },
    {
     "data": {
      "image/png": "[encoded data removed]",
      "text/plain": [
       "<Figure size 360x360 with 1 Axes>"
      ]
     },
     "metadata": {},
     "output_type": "display_data"
    }
   ],
   "source": [
    "accs = []\n",
    "names = []\n",
    "for path in sorted(os.listdir('../results/baseline/filters'), key=lambda x: int(os.path.splitext(x)[0])):\n",
    "    with open(os.path.join('../results/baseline/filters', path)) as f:\n",
    "        results = json.load(f)\n",
    "        accs.append(results['acc'])\n",
    "        names.append(os.path.splitext(path)[0])\n",
    "\n",
    "df = pd.DataFrame({'accuracy': accs, 'filter_size': names}, columns=['filter_size', 'accuracy'])\n",
    "sns.relplot(x='filter_size', y='accuracy', data=df)\n",
    "df"
   ]
  },
  {
   "cell_type": "markdown",
   "metadata": {},
   "source": [
    "### 3.3 POS-tagged"
   ]
  },
  {
   "cell_type": "code",
   "execution_count": 86,
   "metadata": {},
   "outputs": [
    {
     "name": "stdout",
     "output_type": "stream",
     "text": [
      "accuracy: 0.673\n"
     ]
    },
    {
     "data": {
      "text/html": [
       "<div>\n",
       "<style scoped>\n",
       "    .dataframe tbody tr th:only-of-type {\n",
       "        vertical-align: middle;\n",
       "    }\n",
       "\n",
       "    .dataframe tbody tr th {\n",
       "        vertical-align: top;\n",
       "    }\n",
       "\n",
       "    .dataframe thead th {\n",
       "        text-align: right;\n",
       "    }\n",
       "</style>\n",
       "<table border=\"1\" class=\"dataframe\">\n",
       "  <thead>\n",
       "    <tr style=\"text-align: right;\">\n",
       "      <th></th>\n",
       "      <th>f1</th>\n",
       "      <th>precision</th>\n",
       "      <th>recall</th>\n",
       "    </tr>\n",
       "  </thead>\n",
       "  <tbody>\n",
       "    <tr>\n",
       "      <th>negative</th>\n",
       "      <td>0.651</td>\n",
       "      <td>0.689</td>\n",
       "      <td>0.618</td>\n",
       "    </tr>\n",
       "    <tr>\n",
       "      <th>positive</th>\n",
       "      <td>0.692</td>\n",
       "      <td>0.660</td>\n",
       "      <td>0.727</td>\n",
       "    </tr>\n",
       "    <tr>\n",
       "      <th>average</th>\n",
       "      <td>0.671</td>\n",
       "      <td>0.674</td>\n",
       "      <td>0.672</td>\n",
       "    </tr>\n",
       "  </tbody>\n",
       "</table>\n",
       "</div>"
      ],
      "text/plain": [
       "             f1  precision  recall\n",
       "negative  0.651      0.689   0.618\n",
       "positive  0.692      0.660   0.727\n",
       "average   0.671      0.674   0.672"
      ]
     },
     "execution_count": 86,
     "metadata": {},
     "output_type": "execute_result"
    }
   ],
   "source": [
    "with open('../results/baseline/pos/1.zip.json') as f:\n",
    "    results = json.load(f)\n",
    "df = pd.DataFrame({\n",
    "    'precision': np.round(results['prec'] + [results['avg_prec']], 3),\n",
    "    'recall': np.round(results['rec'] + [results['avg_rec']], 3),\n",
    "    'f1': np.round(results['f1'] + [results['avg_f1']], 3)\n",
    "}, index=(results['labels'] + ['average']))\n",
    "print('accuracy:', np.round(results['acc'], 3))\n",
    "df"
   ]
  },
  {
   "cell_type": "markdown",
   "metadata": {},
   "source": [
    "## 4. Influence of word embeddings"
   ]
  },
  {
   "cell_type": "markdown",
   "metadata": {},
   "source": [
    "### 4.1 Word Embeddings"
   ]
  },
  {
   "cell_type": "code",
   "execution_count": 78,
   "metadata": {},
   "outputs": [
    {
     "data": {
      "text/html": [
       "<div>\n",
       "<style scoped>\n",
       "    .dataframe tbody tr th:only-of-type {\n",
       "        vertical-align: middle;\n",
       "    }\n",
       "\n",
       "    .dataframe tbody tr th {\n",
       "        vertical-align: top;\n",
       "    }\n",
       "\n",
       "    .dataframe thead th {\n",
       "        text-align: right;\n",
       "    }\n",
       "</style>\n",
       "<table border=\"1\" class=\"dataframe\">\n",
       "  <thead>\n",
       "    <tr style=\"text-align: right;\">\n",
       "      <th></th>\n",
       "      <th>static</th>\n",
       "      <th>non-static</th>\n",
       "      <th>multichannel</th>\n",
       "    </tr>\n",
       "  </thead>\n",
       "  <tbody>\n",
       "    <tr>\n",
       "      <th>wiki+Gigaword (w2v)</th>\n",
       "      <td>0.680</td>\n",
       "      <td>0.704</td>\n",
       "      <td>0.702</td>\n",
       "    </tr>\n",
       "    <tr>\n",
       "      <th>wiki+Gigaword (glove)</th>\n",
       "      <td>0.764</td>\n",
       "      <td>0.773</td>\n",
       "      <td>0.750</td>\n",
       "    </tr>\n",
       "    <tr>\n",
       "      <th>GoogleNews (w2v)</th>\n",
       "      <td>0.795</td>\n",
       "      <td>0.798</td>\n",
       "      <td>0.793</td>\n",
       "    </tr>\n",
       "    <tr>\n",
       "      <th>CommonCrawl 840B (glove)</th>\n",
       "      <td>0.821</td>\n",
       "      <td>0.818</td>\n",
       "      <td>0.815</td>\n",
       "    </tr>\n",
       "    <tr>\n",
       "      <th>wiki-news (fasttext)</th>\n",
       "      <td>0.818</td>\n",
       "      <td>0.817</td>\n",
       "      <td>0.810</td>\n",
       "    </tr>\n",
       "  </tbody>\n",
       "</table>\n",
       "</div>"
      ],
      "text/plain": [
       "                          static  non-static  multichannel\n",
       "wiki+Gigaword (w2v)        0.680       0.704         0.702\n",
       "wiki+Gigaword (glove)      0.764       0.773         0.750\n",
       "GoogleNews (w2v)           0.795       0.798         0.793\n",
       "CommonCrawl 840B (glove)   0.821       0.818         0.815\n",
       "wiki-news (fasttext)       0.818       0.817         0.810"
      ]
     },
     "execution_count": 78,
     "metadata": {},
     "output_type": "execute_result"
    }
   ],
   "source": [
    "static = []\n",
    "for path in sorted(os.listdir('../results/baseline/embedding')):\n",
    "    with open(os.path.join('../results/baseline/embedding', path)) as f:\n",
    "        results = json.load(f)\n",
    "        static.append(results['acc'])\n",
    "\n",
    "non_static = []\n",
    "for path in sorted(os.listdir('../results/baseline/fine_tuning')):\n",
    "    with open(os.path.join('../results/baseline/fine_tuning', path)) as f:\n",
    "        results = json.load(f)\n",
    "        non_static.append(results['acc'])\n",
    "\n",
    "multichannel = []\n",
    "for path in sorted(os.listdir('../results/baseline/multichannel')):\n",
    "    with open(os.path.join('../results/baseline/multichannel', path)) as f:\n",
    "        results = json.load(f)\n",
    "        multichannel.append(results['acc'])\n",
    "\n",
    "pd.DataFrame({\n",
    "    'static': np.round(static,3),\n",
    "    'non-static': np.round(non_static,3),\n",
    "    'multichannel': np.round(multichannel,3)\n",
    "}, columns=['static', 'non-static', 'multichannel'], index=[\n",
    "    'wiki+Gigaword (w2v)',\n",
    "    'wiki+Gigaword (glove)',\n",
    "    'GoogleNews (w2v)',\n",
    "    'CommonCrawl 840B (glove)',\n",
    "    'wiki-news (fasttext)'\n",
    "])"
   ]
  },
  {
   "cell_type": "markdown",
   "metadata": {},
   "source": [
    "### 4.2 Infering OOVs"
   ]
  },
  {
   "cell_type": "code",
   "execution_count": 83,
   "metadata": {},
   "outputs": [
    {
     "name": "stdout",
     "output_type": "stream",
     "text": [
      "accuracy: 0.808\n"
     ]
    },
    {
     "data": {
      "text/html": [
       "<div>\n",
       "<style scoped>\n",
       "    .dataframe tbody tr th:only-of-type {\n",
       "        vertical-align: middle;\n",
       "    }\n",
       "\n",
       "    .dataframe tbody tr th {\n",
       "        vertical-align: top;\n",
       "    }\n",
       "\n",
       "    .dataframe thead th {\n",
       "        text-align: right;\n",
       "    }\n",
       "</style>\n",
       "<table border=\"1\" class=\"dataframe\">\n",
       "  <thead>\n",
       "    <tr style=\"text-align: right;\">\n",
       "      <th></th>\n",
       "      <th>f1</th>\n",
       "      <th>precision</th>\n",
       "      <th>recall</th>\n",
       "    </tr>\n",
       "  </thead>\n",
       "  <tbody>\n",
       "    <tr>\n",
       "      <th>negative</th>\n",
       "      <td>0.799</td>\n",
       "      <td>0.831</td>\n",
       "      <td>0.770</td>\n",
       "    </tr>\n",
       "    <tr>\n",
       "      <th>positive</th>\n",
       "      <td>0.817</td>\n",
       "      <td>0.790</td>\n",
       "      <td>0.847</td>\n",
       "    </tr>\n",
       "    <tr>\n",
       "      <th>average</th>\n",
       "      <td>0.808</td>\n",
       "      <td>0.810</td>\n",
       "      <td>0.808</td>\n",
       "    </tr>\n",
       "  </tbody>\n",
       "</table>\n",
       "</div>"
      ],
      "text/plain": [
       "             f1  precision  recall\n",
       "negative  0.799      0.831   0.770\n",
       "positive  0.817      0.790   0.847\n",
       "average   0.808      0.810   0.808"
      ]
     },
     "execution_count": 83,
     "metadata": {},
     "output_type": "execute_result"
    }
   ],
   "source": [
    "with open('../results/baseline/infer-oov/fasttext-infer-oov.json') as f:\n",
    "    results = json.load(f)\n",
    "df = pd.DataFrame({\n",
    "    'precision': np.round(results['prec'] + [results['avg_prec']], 3),\n",
    "    'recall': np.round(results['rec'] + [results['avg_rec']], 3),\n",
    "    'f1': np.round(results['f1'] + [results['avg_f1']], 3)\n",
    "}, index=(results['labels'] + ['average']))\n",
    "print('accuracy:', np.round(results['acc'], 3))\n",
    "df"
   ]
  },
  {
   "cell_type": "code",
   "execution_count": null,
   "metadata": {},
   "outputs": [],
   "source": []
  }
 ],
 "metadata": {
  "kernelspec": {
   "display_name": "Python [conda env:inf5820]",
   "language": "python",
   "name": "conda-env-inf5820-py"
  },
  "language_info": {
   "codemirror_mode": {
    "name": "ipython",
    "version": 3
   },
   "file_extension": ".py",
   "mimetype": "text/x-python",
   "name": "python",
   "nbconvert_exporter": "python",
   "pygments_lexer": "ipython3",
   "version": "3.5.0"
  }
 },
 "nbformat": 4,
 "nbformat_minor": 2
}
