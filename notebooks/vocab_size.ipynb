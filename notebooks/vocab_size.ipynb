{
 "cells": [
  {
   "cell_type": "markdown",
   "metadata": {},
   "source": [
    "# Influence of vocabulary size"
   ]
  },
  {
   "cell_type": "code",
   "execution_count": 1,
   "metadata": {},
   "outputs": [
    {
     "name": "stderr",
     "output_type": "stream",
     "text": [
      "Using TensorFlow backend.\n"
     ]
    }
   ],
   "source": [
    "import os\n",
    "import sys\n",
    "import gensim\n",
    "import itertools\n",
    "import numpy as np\n",
    "import matplotlib.pyplot as plt\n",
    "import pandas as pd\n",
    "import seaborn as sns\n",
    "\n",
    "sns.set(style=\"darkgrid\")\n",
    "sys.path.append(os.path.dirname(os.getcwd()))\n",
    "\n",
    "from data import load_data\n",
    "from emb import load_emb_model"
   ]
  },
  {
   "cell_type": "code",
   "execution_count": 2,
   "metadata": {},
   "outputs": [],
   "source": [
    "# Load the word2vec model\n",
    "emb_model = load_emb_model('../../vectors/GoogleNews-vectors-negative300.bin')"
   ]
  },
  {
   "cell_type": "code",
   "execution_count": 3,
   "metadata": {},
   "outputs": [],
   "source": [
    "# Load the dataset\n",
    "_, (tokenizer, _) = load_data('../data/stanford_sentiment_binary_train.tsv.gz')"
   ]
  },
  {
   "cell_type": "code",
   "execution_count": 4,
   "metadata": {},
   "outputs": [
    {
     "name": "stdout",
     "output_type": "stream",
     "text": [
      "there is 13295 words in dataset\n"
     ]
    }
   ],
   "source": [
    "print(\"there is {} words in dataset\".format(len(tokenizer.word_index)))"
   ]
  },
  {
   "cell_type": "code",
   "execution_count": 5,
   "metadata": {},
   "outputs": [
    {
     "name": "stdout",
     "output_type": "stream",
     "text": [
      "words in vocab:\t\t12282\n",
      "words out of vocab\t1013\n",
      "all words:\t\t13295\n"
     ]
    }
   ],
   "source": [
    "words = np.zeros(shape=(len(emb_model.index2word),), dtype=np.int)\n",
    "oov = 0\n",
    "for word in tokenizer.index_word.values():\n",
    "    try:\n",
    "        words[emb_model.vocab[word].index] = 1\n",
    "    except KeyError:\n",
    "       oov += 1\n",
    "print(\"words in vocab:\\t\\t{}\".format(np.sum(words)))\n",
    "print(\"words out of vocab\\t{}\".format(oov))\n",
    "print(\"all words:\\t\\t{}\".format(np.sum(words) + oov))"
   ]
  },
  {
   "cell_type": "code",
   "execution_count": 6,
   "metadata": {},
   "outputs": [],
   "source": [
    "words_in = np.array(list(itertools.accumulate(words)))\n",
    "words_out = np.full((words_in.shape), len(tokenizer.word_index)) - words_in"
   ]
  },
  {
   "cell_type": "code",
   "execution_count": 20,
   "metadata": {},
   "outputs": [
    {
     "data": {
      "text/plain": [
       "<seaborn.axisgrid.FacetGrid at 0x7ff301321a20>"
      ]
     },
     "execution_count": 20,
     "metadata": {},
     "output_type": "execute_result"
    },
    {
     "data": {
      "image/png": "[encoded data removed]",
      "text/plain": [
       "<Figure size 720x360 with 1 Axes>"
      ]
     },
     "metadata": {
      "needs_background": "light"
     },
     "output_type": "display_data"
    }
   ],
   "source": [
    "df = pd.DataFrame({\n",
    "    'oov_words': words_out[::1000],\n",
    "    'vocab_size': list(range(0, len(emb_model.vocab), 1000))\n",
    "})\n",
    "\n",
    "sns.relplot(y='oov_words', x='vocab_size', data=df, kind='line', aspect=2)"
   ]
  }
 ],
 "metadata": {
  "kernelspec": {
   "display_name": "Python 3",
   "language": "python",
   "name": "python3"
  },
  "language_info": {
   "codemirror_mode": {
    "name": "ipython",
    "version": 3
   },
   "file_extension": ".py",
   "mimetype": "text/x-python",
   "name": "python",
   "nbconvert_exporter": "python",
   "pygments_lexer": "ipython3",
   "version": "3.5.0"
  }
 },
 "nbformat": 4,
 "nbformat_minor": 2
}
